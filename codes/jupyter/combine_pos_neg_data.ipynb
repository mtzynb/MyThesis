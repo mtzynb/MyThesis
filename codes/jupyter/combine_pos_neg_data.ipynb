{
 "cells": [
  {
   "cell_type": "code",
   "execution_count": null,
   "outputs": [],
   "source": [
    "!cat test_100_neg.fasta test_100_pos.fasta > / content / mixed_data / test_mixed_100.fasta\n",
    "\n",
    "!cat train_100_neg.fasta train_100_pos.fasta > / content / mixed_data / train_mixed_100.fasta\n",
    "\n",
    "## --------------------------------------------------------------------------\n",
    "\n",
    "!cat test_90_neg.fasta test_90_pos.fasta > / content / mixed_data / test_mixed_90.fasta\n",
    "\n",
    "!cat train_90_neg.fasta train_90_pos.fasta > / content / mixed_data / train_mixed_90.fasta\n",
    "\n",
    "## --------------------------------------------------------------------------\n",
    "\n",
    "!cat test_80_neg.fasta test_80_pos.fasta > / content / mixed_data / test_mixed_80.fasta\n",
    "\n",
    "!cat train_80_neg.fasta train_80_pos.fasta > / content / mixed_data / train_mixed_80.fasta"
   ],
   "metadata": {
    "collapsed": false,
    "pycharm": {
     "name": "#%%\n"
    }
   }
  }
 ],
 "metadata": {
  "kernelspec": {
   "display_name": "Python 3",
   "language": "python",
   "name": "python3"
  },
  "language_info": {
   "codemirror_mode": {
    "name": "ipython",
    "version": 2
   },
   "file_extension": ".py",
   "mimetype": "text/x-python",
   "name": "python",
   "nbconvert_exporter": "python",
   "pygments_lexer": "ipython2",
   "version": "2.7.6"
  }
 },
 "nbformat": 4,
 "nbformat_minor": 0
}