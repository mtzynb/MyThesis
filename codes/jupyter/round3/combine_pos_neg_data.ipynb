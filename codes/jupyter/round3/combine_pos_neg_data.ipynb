{
 "cells": [
  {
   "cell_type": "code",
   "execution_count": null,
   "outputs": [],
   "source": [
    "## --------------------------------------------------------------------------\n",
    "\n",
    "!cat /content/ACP_90_pos_preprocess_level1.fasta /content/ACP_90_neg_random.fasta > ACP_Mixed_equal_pos_neg_90.fasta\n",
    "\n",
    "## --------------------------------------------------------------------------\n",
    "!cat /content/ACP_80_pos_preprocess_level1.fasta /content/ACP_80_neg_random.fasta > ACP_Mixed_equal_pos_neg_80.fasta"
   ],
   "metadata": {
    "collapsed": false,
    "pycharm": {
     "name": "#%%\n"
    }
   }
  }
 ],
 "metadata": {
  "kernelspec": {
   "display_name": "Python 3",
   "language": "python",
   "name": "python3"
  },
  "language_info": {
   "codemirror_mode": {
    "name": "ipython",
    "version": 2
   },
   "file_extension": ".py",
   "mimetype": "text/x-python",
   "name": "python",
   "nbconvert_exporter": "python",
   "pygments_lexer": "ipython2",
   "version": "2.7.6"
  }
 },
 "nbformat": 4,
 "nbformat_minor": 0
}